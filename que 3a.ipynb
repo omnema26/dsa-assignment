{
 "cells": [
  {
   "cell_type": "code",
   "execution_count": 4,
   "id": "91318749",
   "metadata": {},
   "outputs": [
    {
     "name": "stdout",
     "output_type": "stream",
     "text": [
      "Strings are rotations of each other\n"
     ]
    }
   ],
   "source": [
    "\n",
    "\n",
    "s= \"abcd\"\n",
    "t= \"dcba\"\n",
    "if t==s[::-1]:\n",
    "    print(\"Strings are rotations of each other\")\n",
    "else: print (\"Strings are  not rotations of each other\")"
   ]
  },
  {
   "cell_type": "code",
   "execution_count": null,
   "id": "94361102",
   "metadata": {},
   "outputs": [],
   "source": []
  }
 ],
 "metadata": {
  "kernelspec": {
   "display_name": "Python 3 (ipykernel)",
   "language": "python",
   "name": "python3"
  },
  "language_info": {
   "codemirror_mode": {
    "name": "ipython",
    "version": 3
   },
   "file_extension": ".py",
   "mimetype": "text/x-python",
   "name": "python",
   "nbconvert_exporter": "python",
   "pygments_lexer": "ipython3",
   "version": "3.9.12"
  }
 },
 "nbformat": 4,
 "nbformat_minor": 5
}
