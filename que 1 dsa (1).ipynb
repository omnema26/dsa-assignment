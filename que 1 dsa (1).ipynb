{
 "cells": [
  {
   "cell_type": "code",
   "execution_count": 24,
   "id": "00395cd0",
   "metadata": {},
   "outputs": [
    {
     "name": "stdout",
     "output_type": "stream",
     "text": [
      "Pair found (1, 9)\n",
      "Pair found (4, 6)\n",
      "Pair found (4, 6)\n"
     ]
    }
   ],
   "source": [
    "def findPair(A, target):\n",
    "    for i in range(len(A) - 1):\n",
    "        for j in range(i + 1, len(A)):\n",
    "            if A[i] + A[j] == target:\n",
    "                print(\"Pair found\", (A[i], A[j]))\n",
    "    return\n",
    "\n",
    "\n",
    "A = (1, 9, 5, 4, 6, 6, 7, 2)\n",
    "target = 10\n",
    "findPair(A, target)"
   ]
  },
  {
   "cell_type": "code",
   "execution_count": null,
   "id": "cecc0f17",
   "metadata": {},
   "outputs": [],
   "source": []
  },
  {
   "cell_type": "code",
   "execution_count": null,
   "id": "e46e5372",
   "metadata": {},
   "outputs": [],
   "source": []
  }
 ],
 "metadata": {
  "kernelspec": {
   "display_name": "Python 3 (ipykernel)",
   "language": "python",
   "name": "python3"
  },
  "language_info": {
   "codemirror_mode": {
    "name": "ipython",
    "version": 3
   },
   "file_extension": ".py",
   "mimetype": "text/x-python",
   "name": "python",
   "nbconvert_exporter": "python",
   "pygments_lexer": "ipython3",
   "version": "3.9.12"
  }
 },
 "nbformat": 4,
 "nbformat_minor": 5
}
