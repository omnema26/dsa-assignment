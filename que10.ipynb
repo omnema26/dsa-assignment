{
 "cells": [
  {
   "cell_type": "code",
   "execution_count": 6,
   "id": "7a595aad",
   "metadata": {},
   "outputs": [
    {
     "name": "stdout",
     "output_type": "stream",
     "text": [
      "1\n"
     ]
    }
   ],
   "source": [
    "class Stack():\n",
    "    def __init__(self):\n",
    "        self.items = []\n",
    "        self.min = None\n",
    "\n",
    "    def push(self, item):\n",
    "        self.items.append(item)\n",
    "        self.minimum()\n",
    "\n",
    "    def pop(self):\n",
    "        if self.isEmpty():\n",
    "            raise ValueError('Empty stack')\n",
    "        else:\n",
    "            return self.items.pop()\n",
    "\n",
    "    def minimum(self):\n",
    "        if self.min is None:\n",
    "            self.min = self.peek()\n",
    "        else:\n",
    "            if self.peek() < self.min:\n",
    "                self.min = self.peek()\n",
    "\n",
    "    def getMinimum(self):\n",
    "        return self.min\n",
    "\n",
    "    def peek(self):\n",
    "        try:\n",
    "            return self.items[-1]\n",
    "        except IndexError as e:\n",
    "            print(e)\n",
    "\n",
    "    def size(self):\n",
    "        return len(self.items)\n",
    "\n",
    "    def isEmpty(self):\n",
    "        return self.size() == 0\n",
    "\n",
    "stack = Stack()\n",
    "\n",
    "nums = [6,4,8,9,1,5,2,3]\n",
    "for i in nums:\n",
    "    stack.push(i)\n",
    "\n",
    "print(stack.getMinimum())"
   ]
  },
  {
   "cell_type": "code",
   "execution_count": null,
   "id": "3fb91039",
   "metadata": {},
   "outputs": [],
   "source": []
  }
 ],
 "metadata": {
  "kernelspec": {
   "display_name": "Python 3 (ipykernel)",
   "language": "python",
   "name": "python3"
  },
  "language_info": {
   "codemirror_mode": {
    "name": "ipython",
    "version": 3
   },
   "file_extension": ".py",
   "mimetype": "text/x-python",
   "name": "python",
   "nbconvert_exporter": "python",
   "pygments_lexer": "ipython3",
   "version": "3.9.12"
  }
 },
 "nbformat": 4,
 "nbformat_minor": 5
}
